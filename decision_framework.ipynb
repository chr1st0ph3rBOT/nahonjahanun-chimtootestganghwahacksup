{
 "cells": [
  {
   "cell_type": "markdown",
   "id": "33c2bad6",
   "metadata": {},
   "source": [
    "현진: 호기심\n",
    "원준: 플래그/폴리시\n",
    "나: 예측 기반 오차/오류"
   ]
  },
  {
   "cell_type": "code",
   "execution_count": null,
   "id": "be955d5c",
   "metadata": {},
   "outputs": [],
   "source": [
    "# 에러 기반\n",
    "\n",
    "def error():"
   ]
  },
  {
   "cell_type": "code",
   "execution_count": null,
   "id": "c33a7933",
   "metadata": {},
   "outputs": [],
   "source": [
    "# 예측기반 오차\n",
    "\n",
    "# 전체 파라미터를 트리 구조로 바꾸는 코드\n",
    "\n",
    "\n",
    "def prophecy():\n",
    "    next_output_value_type = 0 # 여기에 예측 코드 넣으면 됨\n",
    "    return next_output_value_type\n",
    "\n",
    "def main(prophecy_out, real_out):\n",
    "    # 유전 거리 계산 코드\n",
    "    return"
   ]
  },
  {
   "cell_type": "code",
   "execution_count": null,
   "id": "86ded50e",
   "metadata": {},
   "outputs": [],
   "source": [
    "#뭐가 어떻게 될지 몰라 일단 함수 기틀만 만들어 보았음.\n",
    "'''우선, 호기심 보상 함수를 두가지 버전으로 만들어보앗는데,\n",
    "첫번째로는 은세가 말했던 스텝이 진행될 수록 기틀이 잡히니까 호기심 보상을 자동적으로 감쇠시키는 버전,\n",
    "두번째로는 후반에 가서도 호기심 보상을 감소시키지 않을 수 있게 최악의 상태일떄 음의 보상으로 패치하는 버전으로 만들었음.\n",
    "'''\n",
    "\n",
    "\n",
    "#자동 감쇠형 호기심 함수\n",
    "def curiosity_reward_decay(step, base_reward=1.0, decay_rate=0.005):\n",
    "    \"\"\"\n",
    "    호기심 보상이 스텝(step)에 따라 자연스럽게 감소하는 함수.\n",
    "    예: 초반엔 높은 보상, 후반으로 갈수록 점점 감소.\n",
    "\n",
    "    R_c(t) = base_reward * (1 - decay_rate * step)\n",
    "    (단, 0보다 작으면 0으로 제한)\n",
    "    \"\"\"\n",
    "    reward = max(base_reward * (1 - decay_rate * step), 0)\n",
    "    return reward\n",
    "# 최악의 경우에 음의 보상을 주는 호기심 함수\n",
    "def curiosity_reward_with_penalty(is_redundant=False, is_error=False, step=0,\n",
    "                                  base_reward=1.0, penalty_redundant=0.3, penalty_error=0.5,\n",
    "                                  decay_rate=0.003):\n",
    "    \"\"\"\n",
    "    스텝 수에 따른 호기심 보상 감소 + 잘못된 행동에 대한 음의 보상 적용.\n",
    "\n",
    "    Parameters:\n",
    "    - is_redundant: 이미 여러 번 시도된 동일한 행동 수행시 True\n",
    "    - is_error: 시스템 오류를 유발하는 탐색시 True\n",
    "    - step: 현재 스텝 수\n",
    "    - base_reward: 기본 호기심 보상\n",
    "    - penalty_redundant: 반복 행동에 부여할 음의 보상 강도\n",
    "    - penalty_error: 심각한 오류 행위에 부여할 음의 보상 강도\n",
    "    - decay_rate: 스텝에 따른 감쇠 비율\n",
    "    \"\"\"\n",
    "    reward = max(base_reward * (1 - decay_rate * step), 0)\n",
    "    if is_redundant:\n",
    "        reward -= penalty_redundant\n",
    "    if is_error:\n",
    "        reward -= penalty_error\n",
    "    return max(reward, -1.0)\n"
   ]
  }
 ],
 "metadata": {
  "kernelspec": {
   "display_name": "dd32",
   "language": "python",
   "name": "python3"
  },
  "language_info": {
   "name": "python",
   "version": "3.11.13"
  }
 },
 "nbformat": 4,
 "nbformat_minor": 5
}
