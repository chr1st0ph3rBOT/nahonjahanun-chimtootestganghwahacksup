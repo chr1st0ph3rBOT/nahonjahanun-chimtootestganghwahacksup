{
 "cells": [
  {
   "cell_type": "markdown",
   "id": "33c2bad6",
   "metadata": {},
   "source": [
    "현진: 호기심\n",
    "원준: 플래그/폴리시\n",
    "나: 예측 기반 오차/오류"
   ]
  },
  {
   "cell_type": "code",
   "execution_count": null,
   "id": "c33a7933",
   "metadata": {},
   "outputs": [],
   "source": [
    "# 예측기반 오차\n",
    "# var.\n",
    "state = {\n",
    "    'state_num': -1,   # 현재 state 기준 과거는 -1, 미래는 +1\n",
    "    'reward': 1\n",
    "}\n",
    "\n",
    "def prophecy(state): #prophecy는 신탁\n",
    "    score = 0\n",
    "    \n",
    "\n",
    "\n",
    "    return score\n",
    "\n",
    "def reward(prophecy_score_bef = prophecy(state), state_reward_bef):\n",
    "    w=10\n",
    "    return abs(prophecy_score_bef - state_reward_bef) * w # w는 가중치"
   ]
  }
 ],
 "metadata": {
  "kernelspec": {
   "display_name": "dd32",
   "language": "python",
   "name": "python3"
  },
  "language_info": {
   "name": "python",
   "version": "3.11.13"
  }
 },
 "nbformat": 4,
 "nbformat_minor": 5
}
