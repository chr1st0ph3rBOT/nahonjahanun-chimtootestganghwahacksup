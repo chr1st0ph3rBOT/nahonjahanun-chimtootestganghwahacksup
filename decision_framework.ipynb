{
 "cells": [
  {
   "cell_type": "markdown",
   "id": "33c2bad6",
   "metadata": {},
   "source": [
    "현진: 호기심\n",
    "원준: 플래그/폴리시\n",
    "나: 예측 기반 오차/오류"
   ]
  },
  {
   "cell_type": "code",
   "execution_count": null,
   "id": "be955d5c",
   "metadata": {},
   "outputs": [],
   "source": [
    "# 에러 기반\n",
    "\n",
    "def error():"
   ]
  },
  {
   "cell_type": "code",
   "execution_count": null,
   "id": "c33a7933",
   "metadata": {},
   "outputs": [],
   "source": [
    "# 예측기반 오차\n",
    "\n",
    "# 전체 파라미터를 트리 구조로 바꾸는 코드\n",
    "\n",
    "\n",
    "def prophecy():\n",
    "    next_output_value_type = 0 # 여기에 예측 코드 넣으면 됨\n",
    "    return next_output_value_type\n",
    "\n",
    "def main(prophecy_out, real_out):\n",
    "    # 유전 거리 계산 코드\n",
    "    return"
   ]
  }
 ],
 "metadata": {
  "kernelspec": {
   "display_name": "dd32",
   "language": "python",
   "name": "python3"
  },
  "language_info": {
   "name": "python",
   "version": "3.11.13"
  }
 },
 "nbformat": 4,
 "nbformat_minor": 5
}
